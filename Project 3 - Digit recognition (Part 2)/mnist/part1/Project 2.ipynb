{
 "cells": [
  {
   "cell_type": "code",
   "execution_count": 1,
   "metadata": {},
   "outputs": [],
   "source": [
    "import sys\n",
    "import numpy as np\n",
    "import matplotlib.pyplot as plt\n",
    "sys.path.append(\"..\")\n",
    "from utils import *\n",
    "from linear_regression import *\n",
    "from svm import *\n",
    "from softmax import *\n",
    "from features import *\n",
    "from kernel import *"
   ]
  },
  {
   "cell_type": "code",
   "execution_count": 20,
   "metadata": {},
   "outputs": [],
   "source": [
    "n, d, k = 3, 5, 7\n",
    "X = np.arange(0, n * d).reshape(n, d)\n",
    "zeros = np.zeros((k, d))\n",
    "temp = 0.2\n",
    "theta = np.arange(0, k * d).reshape(k, d)"
   ]
  },
  {
   "cell_type": "code",
   "execution_count": 17,
   "metadata": {},
   "outputs": [],
   "source": [
    "def compute_probabilities(X, theta, temp_parameter):\n",
    "    \"\"\"\n",
    "    Computes, for each datapoint X[i], the probability that X[i] is labeled as j\n",
    "    for j = 0, 1, ..., k-1\n",
    "\n",
    "    Args:\n",
    "        X - (n, d) NumPy array (n datapoints each with d features)\n",
    "        theta - (k, d) NumPy array, where row j represents the parameters of our model for label j\n",
    "        temp_parameter - the temperature parameter of softmax function (scalar)\n",
    "    Returns:\n",
    "        H - (k, n) NumPy array, where each entry H[j][i] is the probability that X[i] is labeled as j\n",
    "    \"\"\"\n",
    "    #YOUR CODE HERE\n",
    "    v = (theta @ X.T)/temp_parameter\n",
    "    C = np.max(v, axis=0)\n",
    "    exp = np.exp(v-C)\n",
    "    sum = np.sum(exp, axis = 0)\n",
    "    h = (1/sum)*exp\n",
    "\n",
    "\n",
    "    return h"
   ]
  },
  {
   "cell_type": "code",
   "execution_count": 23,
   "metadata": {},
   "outputs": [
    {
     "data": {
      "text/plain": [
       "array([[0.00000000e+000, 0.00000000e+000, 0.00000000e+000],\n",
       "       [0.00000000e+000, 0.00000000e+000, 0.00000000e+000],\n",
       "       [0.00000000e+000, 0.00000000e+000, 0.00000000e+000],\n",
       "       [0.00000000e+000, 0.00000000e+000, 0.00000000e+000],\n",
       "       [7.12457641e-218, 0.00000000e+000, 0.00000000e+000],\n",
       "       [2.66919022e-109, 0.00000000e+000, 0.00000000e+000],\n",
       "       [1.00000000e+000, 1.00000000e+000, 1.00000000e+000]])"
      ]
     },
     "execution_count": 23,
     "metadata": {},
     "output_type": "execute_result"
    }
   ],
   "source": [
    "compute_probabilities(X, theta, temp) #== np.ones((k, n)) / k"
   ]
  },
  {
   "cell_type": "code",
   "execution_count": 19,
   "metadata": {},
   "outputs": [
    {
     "data": {
      "text/plain": [
       "array([[0.14285714, 0.14285714, 0.14285714],\n",
       "       [0.14285714, 0.14285714, 0.14285714],\n",
       "       [0.14285714, 0.14285714, 0.14285714],\n",
       "       [0.14285714, 0.14285714, 0.14285714],\n",
       "       [0.14285714, 0.14285714, 0.14285714],\n",
       "       [0.14285714, 0.14285714, 0.14285714],\n",
       "       [0.14285714, 0.14285714, 0.14285714]])"
      ]
     },
     "execution_count": 19,
     "metadata": {},
     "output_type": "execute_result"
    }
   ],
   "source": [
    "np.ones((k, n)) / k"
   ]
  },
  {
   "cell_type": "code",
   "execution_count": 11,
   "metadata": {},
   "outputs": [
    {
     "name": "stderr",
     "output_type": "stream",
     "text": [
      "<ipython-input-11-35899e7c0cf9>:1: RuntimeWarning: divide by zero encountered in log\n",
      "  np.log(compute_probabilities(X, theta, temp))\n"
     ]
    },
    {
     "data": {
      "text/plain": [
       "array([[ -inf,  -inf,  -inf],\n",
       "       [ -inf,  -inf,  -inf],\n",
       "       [ -inf,  -inf,  -inf],\n",
       "       [ -inf,  -inf,  -inf],\n",
       "       [-500.,  -inf,  -inf],\n",
       "       [-250.,  -inf,  -inf],\n",
       "       [   0.,    0.,    0.]])"
      ]
     },
     "execution_count": 11,
     "metadata": {},
     "output_type": "execute_result"
    }
   ],
   "source": [
    "np.log(compute_probabilities(X, theta, temp))"
   ]
  },
  {
   "cell_type": "code",
   "execution_count": 26,
   "metadata": {},
   "outputs": [],
   "source": [
    "n, d, k = 3, 5, 7\n",
    "X = np.arange(0, n * d).reshape(n, d)\n",
    "Y = np.arange(0, n)\n",
    "zeros = np.zeros((k, d))\n",
    "temp = 0.2\n",
    "\n",
    "lambda_factor = 0.5"
   ]
  },
  {
   "cell_type": "code",
   "execution_count": 27,
   "metadata": {},
   "outputs": [],
   "source": [
    "def compute_cost_function(X, Y, theta, lambda_factor, temp_parameter):\n",
    "    \"\"\"\n",
    "    Computes the total cost over every datapoint.\n",
    "\n",
    "    Args:\n",
    "        X - (n, d) NumPy array (n datapoints each with d features)\n",
    "        Y - (n, ) NumPy array containing the labels (a number from 0-9) for each\n",
    "            data point\n",
    "        theta - (k, d) NumPy array, where row j represents the parameters of our\n",
    "                model for label j\n",
    "        lambda_factor - the regularization constant (scalar)\n",
    "        temp_parameter - the temperature parameter of softmax function (scalar)\n",
    "\n",
    "    Returns\n",
    "        c - the cost value (scalar)\n",
    "    \"\"\"\n",
    "    #YOUR CODE HERE\n",
    "    n = X.shape[0]\n",
    "    k = theta.shape[0]\n",
    "    log = np.log(compute_probabilities(X, theta, temp_parameter))\n",
    "\n",
    "    Loss = 0\n",
    "    for i in range(n):\n",
    "        for j in range(k):\n",
    "            if Y[i] == j:\n",
    "                Loss += Y[i]*log[j,i]\n",
    "\n",
    "    J = (-1/n)*Loss + lambda_factor/2 * np.sum(theta**2)\n",
    "\n",
    "    return J"
   ]
  },
  {
   "cell_type": "code",
   "execution_count": 28,
   "metadata": {},
   "outputs": [
    {
     "name": "stderr",
     "output_type": "stream",
     "text": [
      "<ipython-input-28-35899e7c0cf9>:1: RuntimeWarning: divide by zero encountered in log\n",
      "  np.log(compute_probabilities(X, theta, temp))\n"
     ]
    },
    {
     "data": {
      "text/plain": [
       "array([[ -inf,  -inf,  -inf],\n",
       "       [ -inf,  -inf,  -inf],\n",
       "       [ -inf,  -inf,  -inf],\n",
       "       [ -inf,  -inf,  -inf],\n",
       "       [-500.,  -inf,  -inf],\n",
       "       [-250.,  -inf,  -inf],\n",
       "       [   0.,    0.,    0.]])"
      ]
     },
     "execution_count": 28,
     "metadata": {},
     "output_type": "execute_result"
    }
   ],
   "source": [
    "np.log(compute_probabilities(X, theta, temp))"
   ]
  },
  {
   "cell_type": "code",
   "execution_count": 29,
   "metadata": {},
   "outputs": [
    {
     "name": "stderr",
     "output_type": "stream",
     "text": [
      "<ipython-input-27-485d2e17b30e>:20: RuntimeWarning: divide by zero encountered in log\n",
      "  log = np.log(compute_probabilities(X, theta, temp_parameter))\n",
      "<ipython-input-27-485d2e17b30e>:26: RuntimeWarning: invalid value encountered in multiply\n",
      "  Loss += Y[i]*log[j,i]\n"
     ]
    },
    {
     "data": {
      "text/plain": [
       "nan"
      ]
     },
     "execution_count": 29,
     "metadata": {},
     "output_type": "execute_result"
    }
   ],
   "source": [
    "compute_cost_function(X, Y, theta, lambda_factor, temp)"
   ]
  },
  {
   "cell_type": "code",
   "execution_count": null,
   "metadata": {},
   "outputs": [],
   "source": []
  }
 ],
 "metadata": {
  "kernelspec": {
   "display_name": "Python 3",
   "language": "python",
   "name": "python3"
  },
  "language_info": {
   "codemirror_mode": {
    "name": "ipython",
    "version": 3
   },
   "file_extension": ".py",
   "mimetype": "text/x-python",
   "name": "python",
   "nbconvert_exporter": "python",
   "pygments_lexer": "ipython3",
   "version": "3.8.3"
  }
 },
 "nbformat": 4,
 "nbformat_minor": 4
}
